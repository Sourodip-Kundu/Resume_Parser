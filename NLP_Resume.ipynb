{
  "nbformat": 4,
  "nbformat_minor": 0,
  "metadata": {
    "kernelspec": {
      "display_name": "Python 3",
      "language": "python",
      "name": "python3"
    },
    "language_info": {
      "codemirror_mode": {
        "name": "ipython",
        "version": 3
      },
      "file_extension": ".py",
      "mimetype": "text/x-python",
      "name": "python",
      "nbconvert_exporter": "python",
      "pygments_lexer": "ipython3",
      "version": "3.6.6"
    },
    "colab": {
      "name": "NLP-Resume.ipynb",
      "provenance": [],
      "include_colab_link": true
    }
  },
  "cells": [
    {
      "cell_type": "markdown",
      "metadata": {
        "id": "view-in-github",
        "colab_type": "text"
      },
      "source": [
        "<a href=\"https://colab.research.google.com/github/Sourodip-Kundu/Resume_Parser/blob/main/NLP_Resume.ipynb\" target=\"_parent\"><img src=\"https://colab.research.google.com/assets/colab-badge.svg\" alt=\"Open In Colab\"/></a>"
      ]
    },
    {
      "cell_type": "code",
      "metadata": {
        "id": "Ii2Kfg89yoSB"
      },
      "source": [
        "%reload_ext autoreload\n",
        "%autoreload 2\n",
        "%matplotlib inline"
      ],
      "execution_count": null,
      "outputs": []
    },
    {
      "cell_type": "code",
      "metadata": {
        "_cell_guid": "b1076dfc-b9ad-4769-8c92-a6c4dae69d19",
        "_uuid": "8f2839f25d086af736a60e9eeb907d3b93b6e0e5",
        "id": "7TXY_aHLyoSE"
      },
      "source": [
        "# Importing required Libraries\n",
        "import pandas as pd\n",
        "import math\n",
        "import numpy as np\n",
        "import os\n",
        "import json\n",
        "import random\n",
        "import logging\n",
        "import re\n",
        "import spacy\n",
        "import random"
      ],
      "execution_count": null,
      "outputs": []
    },
    {
      "cell_type": "code",
      "metadata": {
        "id": "MCi3t7YFyoSF"
      },
      "source": [
        "data_file_address = r\"/content/traindata.json\""
      ],
      "execution_count": null,
      "outputs": []
    },
    {
      "cell_type": "code",
      "metadata": {
        "colab": {
          "base_uri": "https://localhost:8080/",
          "height": 343
        },
        "id": "AzEMJ9pYyoSF",
        "outputId": "23af130b-2316-4160-da1f-c68825315c3a"
      },
      "source": [
        "# Reading data\n",
        "df_data = pd.read_json(data_file_address, lines=True)\n",
        "df_data.head(10)"
      ],
      "execution_count": null,
      "outputs": [
        {
          "output_type": "execute_result",
          "data": {
            "text/html": [
              "<div>\n",
              "<style scoped>\n",
              "    .dataframe tbody tr th:only-of-type {\n",
              "        vertical-align: middle;\n",
              "    }\n",
              "\n",
              "    .dataframe tbody tr th {\n",
              "        vertical-align: top;\n",
              "    }\n",
              "\n",
              "    .dataframe thead th {\n",
              "        text-align: right;\n",
              "    }\n",
              "</style>\n",
              "<table border=\"1\" class=\"dataframe\">\n",
              "  <thead>\n",
              "    <tr style=\"text-align: right;\">\n",
              "      <th></th>\n",
              "      <th>content</th>\n",
              "      <th>annotation</th>\n",
              "    </tr>\n",
              "  </thead>\n",
              "  <tbody>\n",
              "    <tr>\n",
              "      <th>0</th>\n",
              "      <td>Govardhana K\\nSenior Software Engineer\\n\\nBeng...</td>\n",
              "      <td>[{'label': ['Companies worked at'], 'points': ...</td>\n",
              "    </tr>\n",
              "    <tr>\n",
              "      <th>1</th>\n",
              "      <td>Harini Komaravelli\\nTest Analyst at Oracle, Hy...</td>\n",
              "      <td>[{'label': ['Companies worked at'], 'points': ...</td>\n",
              "    </tr>\n",
              "    <tr>\n",
              "      <th>2</th>\n",
              "      <td>Hartej Kathuria\\nData Analyst Intern - Oracle ...</td>\n",
              "      <td>[{'label': ['Skills'], 'points': [{'start': 22...</td>\n",
              "    </tr>\n",
              "    <tr>\n",
              "      <th>3</th>\n",
              "      <td>Ijas Nizamuddin\\nAssociate Consultant - State ...</td>\n",
              "      <td>[{'label': ['Skills'], 'points': [{'start': 46...</td>\n",
              "    </tr>\n",
              "    <tr>\n",
              "      <th>4</th>\n",
              "      <td>Imgeeyaul Ansari\\njava developer\\n\\nPune, Maha...</td>\n",
              "      <td>[{'label': ['Skills'], 'points': [{'start': 18...</td>\n",
              "    </tr>\n",
              "    <tr>\n",
              "      <th>5</th>\n",
              "      <td>Jay Madhavi\\nNavi Mumbai, Maharashtra - Email ...</td>\n",
              "      <td>[{'label': ['Graduation Year'], 'points': [{'s...</td>\n",
              "    </tr>\n",
              "    <tr>\n",
              "      <th>6</th>\n",
              "      <td>Jitendra Babu\\nFI/CO Consultant in Tech Mahind...</td>\n",
              "      <td>[{'label': ['Graduation Year'], 'points': [{'s...</td>\n",
              "    </tr>\n",
              "    <tr>\n",
              "      <th>7</th>\n",
              "      <td>Jyotirbindu Patnaik\\nAssociate consultant@SAP ...</td>\n",
              "      <td>[{'label': ['Skills'], 'points': [{'start': 30...</td>\n",
              "    </tr>\n",
              "    <tr>\n",
              "      <th>8</th>\n",
              "      <td>Karthihayini C\\nSystems Engineer - Infosys Lim...</td>\n",
              "      <td>[{'label': ['Skills'], 'points': [{'start': 21...</td>\n",
              "    </tr>\n",
              "    <tr>\n",
              "      <th>9</th>\n",
              "      <td>Karthik GV\\nArchitect - Microsoft India\\n\\nHyd...</td>\n",
              "      <td>[{'label': ['Skills'], 'points': [{'start': 40...</td>\n",
              "    </tr>\n",
              "  </tbody>\n",
              "</table>\n",
              "</div>"
            ],
            "text/plain": [
              "                                             content                                         annotation\n",
              "0  Govardhana K\\nSenior Software Engineer\\n\\nBeng...  [{'label': ['Companies worked at'], 'points': ...\n",
              "1  Harini Komaravelli\\nTest Analyst at Oracle, Hy...  [{'label': ['Companies worked at'], 'points': ...\n",
              "2  Hartej Kathuria\\nData Analyst Intern - Oracle ...  [{'label': ['Skills'], 'points': [{'start': 22...\n",
              "3  Ijas Nizamuddin\\nAssociate Consultant - State ...  [{'label': ['Skills'], 'points': [{'start': 46...\n",
              "4  Imgeeyaul Ansari\\njava developer\\n\\nPune, Maha...  [{'label': ['Skills'], 'points': [{'start': 18...\n",
              "5  Jay Madhavi\\nNavi Mumbai, Maharashtra - Email ...  [{'label': ['Graduation Year'], 'points': [{'s...\n",
              "6  Jitendra Babu\\nFI/CO Consultant in Tech Mahind...  [{'label': ['Graduation Year'], 'points': [{'s...\n",
              "7  Jyotirbindu Patnaik\\nAssociate consultant@SAP ...  [{'label': ['Skills'], 'points': [{'start': 30...\n",
              "8  Karthihayini C\\nSystems Engineer - Infosys Lim...  [{'label': ['Skills'], 'points': [{'start': 21...\n",
              "9  Karthik GV\\nArchitect - Microsoft India\\n\\nHyd...  [{'label': ['Skills'], 'points': [{'start': 40..."
            ]
          },
          "metadata": {
            "tags": []
          },
          "execution_count": 14
        }
      ]
    },
    {
      "cell_type": "code",
      "metadata": {
        "colab": {
          "base_uri": "https://localhost:8080/",
          "height": 195
        },
        "id": "qPrkQNx_yoSF",
        "outputId": "d113cb87-895a-4115-d762-ce3fb4499b1c"
      },
      "source": [
        "# Removing New Line characters\n",
        "for i in range(len(df_data)):\n",
        "    df_data[\"content\"][i] = df_data[\"content\"][i].replace(\"\\n\", \" \")\n",
        "df_data.head()"
      ],
      "execution_count": null,
      "outputs": [
        {
          "output_type": "execute_result",
          "data": {
            "text/html": [
              "<div>\n",
              "<style scoped>\n",
              "    .dataframe tbody tr th:only-of-type {\n",
              "        vertical-align: middle;\n",
              "    }\n",
              "\n",
              "    .dataframe tbody tr th {\n",
              "        vertical-align: top;\n",
              "    }\n",
              "\n",
              "    .dataframe thead th {\n",
              "        text-align: right;\n",
              "    }\n",
              "</style>\n",
              "<table border=\"1\" class=\"dataframe\">\n",
              "  <thead>\n",
              "    <tr style=\"text-align: right;\">\n",
              "      <th></th>\n",
              "      <th>content</th>\n",
              "      <th>annotation</th>\n",
              "    </tr>\n",
              "  </thead>\n",
              "  <tbody>\n",
              "    <tr>\n",
              "      <th>0</th>\n",
              "      <td>Govardhana K Senior Software Engineer  Bengalu...</td>\n",
              "      <td>[{'label': ['Companies worked at'], 'points': ...</td>\n",
              "    </tr>\n",
              "    <tr>\n",
              "      <th>1</th>\n",
              "      <td>Harini Komaravelli Test Analyst at Oracle, Hyd...</td>\n",
              "      <td>[{'label': ['Companies worked at'], 'points': ...</td>\n",
              "    </tr>\n",
              "    <tr>\n",
              "      <th>2</th>\n",
              "      <td>Hartej Kathuria Data Analyst Intern - Oracle R...</td>\n",
              "      <td>[{'label': ['Skills'], 'points': [{'start': 22...</td>\n",
              "    </tr>\n",
              "    <tr>\n",
              "      <th>3</th>\n",
              "      <td>Ijas Nizamuddin Associate Consultant - State S...</td>\n",
              "      <td>[{'label': ['Skills'], 'points': [{'start': 46...</td>\n",
              "    </tr>\n",
              "    <tr>\n",
              "      <th>4</th>\n",
              "      <td>Imgeeyaul Ansari java developer  Pune, Maharas...</td>\n",
              "      <td>[{'label': ['Skills'], 'points': [{'start': 18...</td>\n",
              "    </tr>\n",
              "  </tbody>\n",
              "</table>\n",
              "</div>"
            ],
            "text/plain": [
              "                                             content                                         annotation\n",
              "0  Govardhana K Senior Software Engineer  Bengalu...  [{'label': ['Companies worked at'], 'points': ...\n",
              "1  Harini Komaravelli Test Analyst at Oracle, Hyd...  [{'label': ['Companies worked at'], 'points': ...\n",
              "2  Hartej Kathuria Data Analyst Intern - Oracle R...  [{'label': ['Skills'], 'points': [{'start': 22...\n",
              "3  Ijas Nizamuddin Associate Consultant - State S...  [{'label': ['Skills'], 'points': [{'start': 46...\n",
              "4  Imgeeyaul Ansari java developer  Pune, Maharas...  [{'label': ['Skills'], 'points': [{'start': 18..."
            ]
          },
          "metadata": {
            "tags": []
          },
          "execution_count": 15
        }
      ]
    },
    {
      "cell_type": "code",
      "metadata": {
        "id": "4wxuPYOAyoSG"
      },
      "source": [
        "# JSON formatting functions\n",
        "def convert_dataturks_to_spacy(dataturks_JSON_FilePath):\n",
        "    try:\n",
        "        training_data = []\n",
        "        lines=[]\n",
        "        with open(dataturks_JSON_FilePath, 'r') as f:\n",
        "            lines = f.readlines()\n",
        "\n",
        "        for line in lines:\n",
        "            data = json.loads(line)\n",
        "            text = data['content'].replace(\"\\n\", \" \")\n",
        "            entities = []\n",
        "            data_annotations = data['annotation']\n",
        "            if data_annotations is not None:\n",
        "                for annotation in data_annotations:\n",
        "                    #only a single point in text annotation.\n",
        "                    point = annotation['points'][0]\n",
        "                    labels = annotation['label']\n",
        "                    # handle both list of labels or a single label.\n",
        "                    if not isinstance(labels, list):\n",
        "                        labels = [labels]\n",
        "\n",
        "                    for label in labels:\n",
        "                        point_start = point['start']\n",
        "                        point_end = point['end']\n",
        "                        point_text = point['text']\n",
        "                        \n",
        "                        lstrip_diff = len(point_text) - len(point_text.lstrip())\n",
        "                        rstrip_diff = len(point_text) - len(point_text.rstrip())\n",
        "                        if lstrip_diff != 0:\n",
        "                            point_start = point_start + lstrip_diff\n",
        "                        if rstrip_diff != 0:\n",
        "                            point_end = point_end - rstrip_diff\n",
        "                        entities.append((point_start, point_end + 1 , label))\n",
        "            training_data.append((text, {\"entities\" : entities}))\n",
        "        return training_data\n",
        "    except Exception as e:\n",
        "        logging.exception(\"Unable to process \" + dataturks_JSON_FilePath + \"\\n\" + \"error = \" + str(e))\n",
        "        return None\n",
        "\n",
        "def trim_entity_spans(data: list) -> list:\n",
        "    \"\"\"Removes leading and trailing white spaces from entity spans.\n",
        "\n",
        "    Args:\n",
        "        data (list): The data to be cleaned in spaCy JSON format.\n",
        "\n",
        "    Returns:\n",
        "        list: The cleaned data.\n",
        "    \"\"\"\n",
        "    invalid_span_tokens = re.compile(r'\\s')\n",
        "\n",
        "    cleaned_data = []\n",
        "    for text, annotations in data:\n",
        "        entities = annotations['entities']\n",
        "        valid_entities = []\n",
        "        for start, end, label in entities:\n",
        "            valid_start = start\n",
        "            valid_end = end\n",
        "            while valid_start < len(text) and invalid_span_tokens.match(\n",
        "                    text[valid_start]):\n",
        "                valid_start += 1\n",
        "            while valid_end > 1 and invalid_span_tokens.match(\n",
        "                    text[valid_end - 1]):\n",
        "                valid_end -= 1\n",
        "            valid_entities.append([valid_start, valid_end, label])\n",
        "        cleaned_data.append([text, {'entities': valid_entities}])\n",
        "    return cleaned_data        "
      ],
      "execution_count": null,
      "outputs": []
    },
    {
      "cell_type": "code",
      "metadata": {
        "colab": {
          "base_uri": "https://localhost:8080/"
        },
        "id": "DhP0YeJbyoSG",
        "outputId": "35625421-2d20-4139-ed80-7d742f8bbf12"
      },
      "source": [
        "data = trim_entity_spans(convert_dataturks_to_spacy(data_file_address))\n",
        "data[0]"
      ],
      "execution_count": null,
      "outputs": [
        {
          "output_type": "execute_result",
          "data": {
            "text/plain": [
              "['Govardhana K Senior Software Engineer  Bengaluru, Karnataka, Karnataka - Email me on Indeed: indeed.com/r/Govardhana-K/ b2de315d95905b68  Total IT experience 5 Years 6 Months Cloud Lending Solutions INC 4 Month • Salesforce Developer Oracle 5 Years 2 Month • Core Java Developer Languages Core Java, Go Lang Oracle PL-SQL programming, Sales Force Developer with APEX.  Designations & Promotions  Willing to relocate: Anywhere  WORK EXPERIENCE  Senior Software Engineer  Cloud Lending Solutions -  Bangalore, Karnataka -  January 2018 to Present  Present  Senior Consultant  Oracle -  Bangalore, Karnataka -  November 2016 to December 2017  Staff Consultant  Oracle -  Bangalore, Karnataka -  January 2014 to October 2016  Associate Consultant  Oracle -  Bangalore, Karnataka -  November 2012 to December 2013  EDUCATION  B.E in Computer Science Engineering  Adithya Institute of Technology -  Tamil Nadu  September 2008 to June 2012  https://www.indeed.com/r/Govardhana-K/b2de315d95905b68?isid=rex-download&ikw=download-top&co=IN https://www.indeed.com/r/Govardhana-K/b2de315d95905b68?isid=rex-download&ikw=download-top&co=IN   SKILLS  APEX. (Less than 1 year), Data Structures (3 years), FLEXCUBE (5 years), Oracle (5 years), Algorithms (3 years)  LINKS  https://www.linkedin.com/in/govardhana-k-61024944/  ADDITIONAL INFORMATION  Technical Proficiency:  Languages: Core Java, Go Lang, Data Structures & Algorithms, Oracle PL-SQL programming, Sales Force with APEX. Tools: RADTool, Jdeveloper, NetBeans, Eclipse, SQL developer, PL/SQL Developer, WinSCP, Putty Web Technologies: JavaScript, XML, HTML, Webservice  Operating Systems: Linux, Windows Version control system SVN & Git-Hub Databases: Oracle Middleware: Web logic, OC4J Product FLEXCUBE: Oracle FLEXCUBE Versions 10.x, 11.x and 12.x  https://www.linkedin.com/in/govardhana-k-61024944/',\n",
              " {'entities': [[1749, 1755, 'Companies worked at'],\n",
              "   [1696, 1702, 'Companies worked at'],\n",
              "   [1417, 1423, 'Companies worked at'],\n",
              "   [1356, 1793, 'Skills'],\n",
              "   [1209, 1215, 'Companies worked at'],\n",
              "   [1136, 1247, 'Skills'],\n",
              "   [928, 932, 'Graduation Year'],\n",
              "   [858, 889, 'College Name'],\n",
              "   [821, 856, 'Degree'],\n",
              "   [787, 791, 'Graduation Year'],\n",
              "   [744, 750, 'Companies worked at'],\n",
              "   [722, 742, 'Designation'],\n",
              "   [658, 664, 'Companies worked at'],\n",
              "   [640, 656, 'Designation'],\n",
              "   [574, 580, 'Companies worked at'],\n",
              "   [555, 572, 'Designation'],\n",
              "   [470, 493, 'Companies worked at'],\n",
              "   [444, 468, 'Designation'],\n",
              "   [308, 314, 'Companies worked at'],\n",
              "   [234, 240, 'Companies worked at'],\n",
              "   [175, 198, 'Companies worked at'],\n",
              "   [93, 136, 'Email Address'],\n",
              "   [39, 48, 'Location'],\n",
              "   [13, 37, 'Designation'],\n",
              "   [0, 12, 'Name']]}]"
            ]
          },
          "metadata": {
            "tags": []
          },
          "execution_count": 18
        }
      ]
    },
    {
      "cell_type": "code",
      "metadata": {
        "id": "XGAbYo3D1pBL"
      },
      "source": [
        "train_data = data"
      ],
      "execution_count": null,
      "outputs": []
    },
    {
      "cell_type": "code",
      "metadata": {
        "id": "iwI7qDBF1613"
      },
      "source": [
        "nlp = spacy.blank('en')\n",
        "\n",
        "def train_model(train_data):\n",
        "    if 'ner' not in nlp.pipe_names:\n",
        "        ner = nlp.create_pipe('ner')\n",
        "        nlp.add_pipe(ner, last = True)\n",
        "    \n",
        "    for _, annotation in train_data:\n",
        "        for ent in annotation['entities']:\n",
        "            ner.add_label(ent[2])\n",
        "            \n",
        "    \n",
        "    other_pipes = [pipe for pipe in nlp.pipe_names if pipe != 'ner']\n",
        "    with nlp.disable_pipes(*other_pipes):  # only train NER\n",
        "        optimizer = nlp.begin_training()\n",
        "        for itn in range(10):\n",
        "            print(\"Statring iteration \" + str(itn))\n",
        "            random.shuffle(train_data)\n",
        "            losses = {}\n",
        "            index = 0\n",
        "            for text, annotations in train_data:\n",
        "                try:\n",
        "                    nlp.update(\n",
        "                        [text],  # batch of texts\n",
        "                        [annotations],  # batch of annotations\n",
        "                        drop=0.2,  # dropout - make it harder to memorise data\n",
        "                        sgd=optimizer,  # callable to update weights\n",
        "                        losses=losses)\n",
        "                except Exception as e:\n",
        "                    pass\n",
        "                \n",
        "            print(losses)"
      ],
      "execution_count": null,
      "outputs": []
    },
    {
      "cell_type": "code",
      "metadata": {
        "colab": {
          "base_uri": "https://localhost:8080/"
        },
        "id": "0d5tdnS02BGG",
        "outputId": "a91bd2b3-651f-4221-efda-cf83529691fe"
      },
      "source": [
        "train_model(train_data)"
      ],
      "execution_count": null,
      "outputs": [
        {
          "output_type": "stream",
          "text": [
            "Statring iteration 0\n",
            "{'ner': 16059.321009889296}\n",
            "Statring iteration 1\n",
            "{'ner': 19154.564969066312}\n",
            "Statring iteration 2\n",
            "{'ner': 14560.293697806977}\n",
            "Statring iteration 3\n",
            "{'ner': 9291.45292547584}\n",
            "Statring iteration 4\n",
            "{'ner': 7562.01529594919}\n",
            "Statring iteration 5\n",
            "{'ner': 6327.038499304456}\n",
            "Statring iteration 6\n",
            "{'ner': 6229.796808332896}\n",
            "Statring iteration 7\n",
            "{'ner': 8138.45386882096}\n",
            "Statring iteration 8\n",
            "{'ner': 5211.816256031629}\n",
            "Statring iteration 9\n",
            "{'ner': 4901.213735437366}\n"
          ],
          "name": "stdout"
        }
      ]
    },
    {
      "cell_type": "code",
      "metadata": {
        "id": "Cqwl2NQm2Emz"
      },
      "source": [
        "nlp.to_disk('nlp_model')"
      ],
      "execution_count": null,
      "outputs": []
    },
    {
      "cell_type": "code",
      "metadata": {
        "id": "EZs3ljPe3ytL"
      },
      "source": [
        "nlp_model = spacy.load('nlp_model')"
      ],
      "execution_count": null,
      "outputs": []
    },
    {
      "cell_type": "code",
      "metadata": {
        "colab": {
          "base_uri": "https://localhost:8080/",
          "height": 123
        },
        "id": "QIHnD7H230Uc",
        "outputId": "db3b46af-c1da-4449-e350-dea6fc662a7a"
      },
      "source": [
        "train_data[0][0]"
      ],
      "execution_count": null,
      "outputs": [
        {
          "output_type": "execute_result",
          "data": {
            "application/vnd.google.colaboratory.intrinsic+json": {
              "type": "string"
            },
            "text/plain": [
              "'Nida Khan Tech Support Executive - Teleperformance for Microsoft  Jaipur, Rajasthan - Email me on Indeed: indeed.com/r/Nida-Khan/6c9160696f57efd8  • To be an integral part of the organization and enhance my knowledge to utilize it in a productive manner for the growth of the company and the global.  INDUSTRIAL TRAINING  • BHEL, (HEEP) HARIDWAR On CNC System&amp; PLC Programming.  WORK EXPERIENCE  Tech Support Executive  Teleperformance for Microsoft -  September 2017 to Present  process. • 21 months of experience in ADFC as Phone Banker.  EDUCATION  Bachelor of Technology in Electronics & communication Engg  GNIT institute of Technology -  Lucknow, Uttar Pradesh  2008 to 2012  Class XII  U.P. Board -  Bareilly, Uttar Pradesh  2007  Class X  U.P. Board -  Bareilly, Uttar Pradesh  2005  SKILLS  Microsoft office, excel, cisco, c language, cbs. (4 years)  https://www.indeed.com/r/Nida-Khan/6c9160696f57efd8?isid=rex-download&ikw=download-top&co=IN'"
            ]
          },
          "metadata": {
            "tags": []
          },
          "execution_count": 27
        }
      ]
    },
    {
      "cell_type": "code",
      "metadata": {
        "colab": {
          "base_uri": "https://localhost:8080/"
        },
        "id": "tKOZuDBP31oA",
        "outputId": "5b4b5d5c-328c-48ca-8e23-eb13e8ae6ec7"
      },
      "source": [
        "doc = nlp_model(train_data[0][0])\n",
        "for ent in doc.ents:\n",
        "    print(f'{ent.label_.upper():{30}}- {ent.text}')"
      ],
      "execution_count": null,
      "outputs": [
        {
          "output_type": "stream",
          "text": [
            "NAME                          - Nida Khan\n",
            "DESIGNATION                   - Tech Support Executive\n",
            "COMPANIES WORKED AT           - Microsoft\n",
            "EMAIL ADDRESS                 - indeed.com/r/Nida-Khan/6c9160696f57efd8\n",
            "DESIGNATION                   - Tech Support Executive\n",
            "DEGREE                        - Bachelor of Technology in Electronics & communication Engg\n",
            "COLLEGE NAME                  - GNIT institute of Technology\n",
            "GRADUATION YEAR               - 2012\n",
            "SKILLS                        - Microsoft office, excel, cisco, c language, cbs. (4 years)\n"
          ],
          "name": "stdout"
        }
      ]
    },
    {
      "cell_type": "code",
      "metadata": {
        "id": "qNec_m_Ib2q9"
      },
      "source": [
        ""
      ],
      "execution_count": null,
      "outputs": []
    }
  ]
}